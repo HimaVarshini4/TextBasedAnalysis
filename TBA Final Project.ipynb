{
 "cells": [
  {
   "cell_type": "markdown",
   "metadata": {},
   "source": [
    "## Installing Necessary Libraries"
   ]
  },
  {
   "cell_type": "code",
   "execution_count": 2,
   "metadata": {},
   "outputs": [
    {
     "name": "stdout",
     "output_type": "stream",
     "text": [
      "Requirement already satisfied: requests in c:\\users\\himav\\.anaconda\\lib\\site-packages (2.31.0)\n",
      "Requirement already satisfied: charset-normalizer<4,>=2 in c:\\users\\himav\\.anaconda\\lib\\site-packages (from requests) (2.0.4)\n",
      "Requirement already satisfied: idna<4,>=2.5 in c:\\users\\himav\\.anaconda\\lib\\site-packages (from requests) (3.4)\n",
      "Requirement already satisfied: urllib3<3,>=1.21.1 in c:\\users\\himav\\.anaconda\\lib\\site-packages (from requests) (1.26.16)\n",
      "Requirement already satisfied: certifi>=2017.4.17 in c:\\users\\himav\\.anaconda\\lib\\site-packages (from requests) (2023.7.22)\n",
      "Requirement already satisfied: beautifulsoup4 in c:\\users\\himav\\.anaconda\\lib\\site-packages (4.12.2)\n",
      "Requirement already satisfied: soupsieve>1.2 in c:\\users\\himav\\.anaconda\\lib\\site-packages (from beautifulsoup4) (2.4)\n",
      "Requirement already satisfied: nltk in c:\\users\\himav\\.anaconda\\lib\\site-packages (3.8.1)\n",
      "Requirement already satisfied: click in c:\\users\\himav\\.anaconda\\lib\\site-packages (from nltk) (8.0.4)\n",
      "Requirement already satisfied: joblib in c:\\users\\himav\\.anaconda\\lib\\site-packages (from nltk) (1.2.0)\n",
      "Requirement already satisfied: regex>=2021.8.3 in c:\\users\\himav\\.anaconda\\lib\\site-packages (from nltk) (2022.7.9)\n",
      "Requirement already satisfied: tqdm in c:\\users\\himav\\.anaconda\\lib\\site-packages (from nltk) (4.65.0)\n",
      "Requirement already satisfied: colorama in c:\\users\\himav\\.anaconda\\lib\\site-packages (from click->nltk) (0.4.6)\n"
     ]
    }
   ],
   "source": [
    "# Install the 'requests' library for making HTTP requests to access web data\n",
    "!pip install requests\n",
    "\n",
    "# Install the 'beautifulsoup4' library for parsing HTML and XML documents\n",
    "!pip install beautifulsoup4\n",
    "\n",
    "# Install the 'nltk' library for natural language processing tasks\n",
    "!pip install nltk"
   ]
  },
  {
   "cell_type": "markdown",
   "metadata": {},
   "source": [
    "## Importing and Initializing Essential Libraries"
   ]
  },
  {
   "cell_type": "code",
   "execution_count": 3,
   "metadata": {},
   "outputs": [
    {
     "name": "stderr",
     "output_type": "stream",
     "text": [
      "[nltk_data] Downloading package punkt to\n",
      "[nltk_data]     C:\\Users\\himav\\AppData\\Roaming\\nltk_data...\n",
      "[nltk_data]   Package punkt is already up-to-date!\n",
      "[nltk_data] Downloading package averaged_perceptron_tagger to\n",
      "[nltk_data]     C:\\Users\\himav\\AppData\\Roaming\\nltk_data...\n",
      "[nltk_data]   Package averaged_perceptron_tagger is already up-to-\n",
      "[nltk_data]       date!\n"
     ]
    }
   ],
   "source": [
    "# Importing necessary libraries for data manipulation, numerical operations, regular expressions, string operations, natural language processing, data visualization, and text analysisimport pandas as pd\n",
    "import numpy as np\n",
    "import pandas as pd\n",
    "import re\n",
    "import string\n",
    "import nltk\n",
    "from nltk.tokenize import word_tokenize\n",
    "import seaborn as sns\n",
    "nltk.download('punkt')\n",
    "nltk.download('averaged_perceptron_tagger')\n",
    "import matplotlib.pyplot as plt\n",
    "from wordcloud import WordCloud\n",
    "from textblob import TextBlob\n",
    "from nltk.stem import PorterStemmer"
   ]
  },
  {
   "cell_type": "markdown",
   "metadata": {},
   "source": [
    "## Web Scraping and Data Collection"
   ]
  },
  {
   "cell_type": "code",
   "execution_count": 4,
   "metadata": {},
   "outputs": [
    {
     "name": "stdout",
     "output_type": "stream",
     "text": [
      "Data has been successfully written to reviews.csv\n"
     ]
    }
   ],
   "source": [
    "# Importing necessary libraries for web scraping (requests, BeautifulSoup) and CSV file handling (csv)\n",
    "import requests\n",
    "from bs4 import BeautifulSoup\n",
    "import csv\n",
    "\n",
    "# List of URLs to scrape\n",
    "urls = [\n",
    "    \"https://microform.digital/boa/collections/63/the-east-india-company-corrupt-governance-and-cruelty-in-india-1806-1814\",\n",
    "    \"https://microform.digital/boa/collections/20/the-east-india-company-laying-the-foundations-for-british-colonial-domination-of-india-1752-1774\",\n",
    "    \"https://microform.digital/boa/collections/28/indian-and-sri-lankan-records-from-colonial-missionaries-1770-1931\",\n",
    "    \"https://microform.digital/boa/collections/36/indian-communists-and-trade-unionists-on-trial-the-meerut-conspiracy-1929-1933\",\n",
    "    \"https://microform.digital/boa/collections/88/world-news-in-indian-newspapers-1782-1908\"\n",
    "]\n",
    "\n",
    "# Initialize a list to store all reviews\n",
    "all_reviews = []\n",
    "\n",
    "# Loop through each URL and scrape the data\n",
    "for url in urls:\n",
    "    # Send a GET request to the URL\n",
    "    response = requests.get(url)\n",
    "    \n",
    "    # Check if the request was successful\n",
    "    if response.status_code == 200:\n",
    "        # Parse the HTML content of the page\n",
    "        soup = BeautifulSoup(response.content, 'html.parser')\n",
    "        \n",
    "        # Find all 'p' tags on the page\n",
    "        paragraphs = soup.find_all('p')\n",
    "        \n",
    "        # Extract the text from each 'p' tag and store it in the list\n",
    "        for p in paragraphs:\n",
    "            all_reviews.append(p.get_text())\n",
    "    else:\n",
    "        print(f\"Failed to retrieve the page {url}. Status code:\", response.status_code)\n",
    "\n",
    "# Open a new CSV file to write the data\n",
    "with open('reviews.csv', 'w', newline='', encoding='utf-8') as csvfile:\n",
    "    # Create a CSV writer object\n",
    "    csvwriter = csv.writer(csvfile)\n",
    "    \n",
    "    # Write the header row\n",
    "    csvwriter.writerow(['Sl. No.', 'Review'])\n",
    "    \n",
    "    # Write the reviews to the CSV file with incremental serial numbers\n",
    "    for i, review in enumerate(all_reviews, start=1):\n",
    "        csvwriter.writerow([i, review])\n",
    "\n",
    "# Print a success message indicating that data has been successfully written to reviews.csv\n",
    "print(\"Data has been successfully written to reviews.csv\")\n"
   ]
  },
  {
   "cell_type": "markdown",
   "metadata": {},
   "source": [
    "## Loading Data into a DataFrame"
   ]
  },
  {
   "cell_type": "code",
   "execution_count": 5,
   "metadata": {},
   "outputs": [],
   "source": [
    "# Read the data from the CSV file 'reviews.csv' into a pandas DataFrame named df\n",
    "df = pd.read_csv('reviews.csv')"
   ]
  },
  {
   "cell_type": "markdown",
   "metadata": {},
   "source": [
    "## Inspecting Imported Data"
   ]
  },
  {
   "cell_type": "code",
   "execution_count": 6,
   "metadata": {},
   "outputs": [
    {
     "data": {
      "text/html": [
       "<div>\n",
       "<style scoped>\n",
       "    .dataframe tbody tr th:only-of-type {\n",
       "        vertical-align: middle;\n",
       "    }\n",
       "\n",
       "    .dataframe tbody tr th {\n",
       "        vertical-align: top;\n",
       "    }\n",
       "\n",
       "    .dataframe thead th {\n",
       "        text-align: right;\n",
       "    }\n",
       "</style>\n",
       "<table border=\"1\" class=\"dataframe\">\n",
       "  <thead>\n",
       "    <tr style=\"text-align: right;\">\n",
       "      <th></th>\n",
       "      <th>Sl. No.</th>\n",
       "      <th>Review</th>\n",
       "    </tr>\n",
       "  </thead>\n",
       "  <tbody>\n",
       "    <tr>\n",
       "      <th>0</th>\n",
       "      <td>1</td>\n",
       "      <td>Get full access to The East India Company: Cor...</td>\n",
       "    </tr>\n",
       "    <tr>\n",
       "      <th>1</th>\n",
       "      <td>2</td>\n",
       "      <td>Purchase a license below to view the full coll...</td>\n",
       "    </tr>\n",
       "    <tr>\n",
       "      <th>2</th>\n",
       "      <td>3</td>\n",
       "      <td>Already have a license? Sign in to view the co...</td>\n",
       "    </tr>\n",
       "    <tr>\n",
       "      <th>3</th>\n",
       "      <td>4</td>\n",
       "      <td>The first Earl of Minto, Sir Gilbert Elliot Mu...</td>\n",
       "    </tr>\n",
       "    <tr>\n",
       "      <th>4</th>\n",
       "      <td>5</td>\n",
       "      <td>The collection offers valuable insights into t...</td>\n",
       "    </tr>\n",
       "  </tbody>\n",
       "</table>\n",
       "</div>"
      ],
      "text/plain": [
       "   Sl. No.                                             Review\n",
       "0        1  Get full access to The East India Company: Cor...\n",
       "1        2  Purchase a license below to view the full coll...\n",
       "2        3  Already have a license? Sign in to view the co...\n",
       "3        4  The first Earl of Minto, Sir Gilbert Elliot Mu...\n",
       "4        5  The collection offers valuable insights into t..."
      ]
     },
     "execution_count": 6,
     "metadata": {},
     "output_type": "execute_result"
    }
   ],
   "source": [
    "# Display the first few rows of the DataFrame df to inspect the imported data\n",
    "df.head()"
   ]
  },
  {
   "cell_type": "markdown",
   "metadata": {},
   "source": [
    "## DataFrame Summary Information"
   ]
  },
  {
   "cell_type": "code",
   "execution_count": 7,
   "metadata": {},
   "outputs": [
    {
     "name": "stdout",
     "output_type": "stream",
     "text": [
      "<class 'pandas.core.frame.DataFrame'>\n",
      "RangeIndex: 74 entries, 0 to 73\n",
      "Data columns (total 2 columns):\n",
      " #   Column   Non-Null Count  Dtype \n",
      "---  ------   --------------  ----- \n",
      " 0   Sl. No.  74 non-null     int64 \n",
      " 1   Review   74 non-null     object\n",
      "dtypes: int64(1), object(1)\n",
      "memory usage: 1.3+ KB\n"
     ]
    }
   ],
   "source": [
    "# Display concise summary information about the DataFrame df, including the data types and memory usage\n",
    "df.info()"
   ]
  },
  {
   "cell_type": "markdown",
   "metadata": {},
   "source": [
    "## Descriptive Statistics of Numerical Columns"
   ]
  },
  {
   "cell_type": "code",
   "execution_count": 8,
   "metadata": {},
   "outputs": [
    {
     "data": {
      "text/html": [
       "<div>\n",
       "<style scoped>\n",
       "    .dataframe tbody tr th:only-of-type {\n",
       "        vertical-align: middle;\n",
       "    }\n",
       "\n",
       "    .dataframe tbody tr th {\n",
       "        vertical-align: top;\n",
       "    }\n",
       "\n",
       "    .dataframe thead th {\n",
       "        text-align: right;\n",
       "    }\n",
       "</style>\n",
       "<table border=\"1\" class=\"dataframe\">\n",
       "  <thead>\n",
       "    <tr style=\"text-align: right;\">\n",
       "      <th></th>\n",
       "      <th>Sl. No.</th>\n",
       "    </tr>\n",
       "  </thead>\n",
       "  <tbody>\n",
       "    <tr>\n",
       "      <th>count</th>\n",
       "      <td>74.000000</td>\n",
       "    </tr>\n",
       "    <tr>\n",
       "      <th>mean</th>\n",
       "      <td>37.500000</td>\n",
       "    </tr>\n",
       "    <tr>\n",
       "      <th>std</th>\n",
       "      <td>21.505813</td>\n",
       "    </tr>\n",
       "    <tr>\n",
       "      <th>min</th>\n",
       "      <td>1.000000</td>\n",
       "    </tr>\n",
       "    <tr>\n",
       "      <th>25%</th>\n",
       "      <td>19.250000</td>\n",
       "    </tr>\n",
       "    <tr>\n",
       "      <th>50%</th>\n",
       "      <td>37.500000</td>\n",
       "    </tr>\n",
       "    <tr>\n",
       "      <th>75%</th>\n",
       "      <td>55.750000</td>\n",
       "    </tr>\n",
       "    <tr>\n",
       "      <th>max</th>\n",
       "      <td>74.000000</td>\n",
       "    </tr>\n",
       "  </tbody>\n",
       "</table>\n",
       "</div>"
      ],
      "text/plain": [
       "         Sl. No.\n",
       "count  74.000000\n",
       "mean   37.500000\n",
       "std    21.505813\n",
       "min     1.000000\n",
       "25%    19.250000\n",
       "50%    37.500000\n",
       "75%    55.750000\n",
       "max    74.000000"
      ]
     },
     "execution_count": 8,
     "metadata": {},
     "output_type": "execute_result"
    }
   ],
   "source": [
    "# Generate descriptive statistics of the numerical columns in the DataFrame df\n",
    "df.describe()"
   ]
  },
  {
   "cell_type": "markdown",
   "metadata": {},
   "source": [
    "## Creating a DataFrame for Text Analysis"
   ]
  },
  {
   "cell_type": "code",
   "execution_count": 9,
   "metadata": {},
   "outputs": [
    {
     "data": {
      "text/html": [
       "<div>\n",
       "<style scoped>\n",
       "    .dataframe tbody tr th:only-of-type {\n",
       "        vertical-align: middle;\n",
       "    }\n",
       "\n",
       "    .dataframe tbody tr th {\n",
       "        vertical-align: top;\n",
       "    }\n",
       "\n",
       "    .dataframe thead th {\n",
       "        text-align: right;\n",
       "    }\n",
       "</style>\n",
       "<table border=\"1\" class=\"dataframe\">\n",
       "  <thead>\n",
       "    <tr style=\"text-align: right;\">\n",
       "      <th></th>\n",
       "      <th>Review</th>\n",
       "    </tr>\n",
       "  </thead>\n",
       "  <tbody>\n",
       "    <tr>\n",
       "      <th>0</th>\n",
       "      <td>Get full access to The East India Company: Cor...</td>\n",
       "    </tr>\n",
       "    <tr>\n",
       "      <th>1</th>\n",
       "      <td>Purchase a license below to view the full coll...</td>\n",
       "    </tr>\n",
       "    <tr>\n",
       "      <th>2</th>\n",
       "      <td>Already have a license? Sign in to view the co...</td>\n",
       "    </tr>\n",
       "    <tr>\n",
       "      <th>3</th>\n",
       "      <td>The first Earl of Minto, Sir Gilbert Elliot Mu...</td>\n",
       "    </tr>\n",
       "    <tr>\n",
       "      <th>4</th>\n",
       "      <td>The collection offers valuable insights into t...</td>\n",
       "    </tr>\n",
       "  </tbody>\n",
       "</table>\n",
       "</div>"
      ],
      "text/plain": [
       "                                              Review\n",
       "0  Get full access to The East India Company: Cor...\n",
       "1  Purchase a license below to view the full coll...\n",
       "2  Already have a license? Sign in to view the co...\n",
       "3  The first Earl of Minto, Sir Gilbert Elliot Mu...\n",
       "4  The collection offers valuable insights into t..."
      ]
     },
     "execution_count": 9,
     "metadata": {},
     "output_type": "execute_result"
    }
   ],
   "source": [
    "# Create a new DataFrame text_df containing only the 'Review' column from df\n",
    "text_df = df[['Review']]\n",
    "\n",
    "# Display the first few rows of the text_df DataFrame to inspect the 'Review' data\n",
    "text_df.head()"
   ]
  },
  {
   "cell_type": "markdown",
   "metadata": {},
   "source": [
    "## Checking for Missing Values in Reviews"
   ]
  },
  {
   "cell_type": "code",
   "execution_count": 10,
   "metadata": {},
   "outputs": [
    {
     "data": {
      "text/plain": [
       "0"
      ]
     },
     "execution_count": 10,
     "metadata": {},
     "output_type": "execute_result"
    }
   ],
   "source": [
    "# Check the number of missing values (NaN) in the 'Review' column of the text_df DataFrame\n",
    "text_df.Review.isna().sum()"
   ]
  },
  {
   "cell_type": "markdown",
   "metadata": {},
   "source": [
    "## Calculating Review Lengths"
   ]
  },
  {
   "cell_type": "code",
   "execution_count": 11,
   "metadata": {},
   "outputs": [
    {
     "name": "stdout",
     "output_type": "stream",
     "text": [
      "(74, 2)\n"
     ]
    },
    {
     "data": {
      "text/html": [
       "<div>\n",
       "<style scoped>\n",
       "    .dataframe tbody tr th:only-of-type {\n",
       "        vertical-align: middle;\n",
       "    }\n",
       "\n",
       "    .dataframe tbody tr th {\n",
       "        vertical-align: top;\n",
       "    }\n",
       "\n",
       "    .dataframe thead th {\n",
       "        text-align: right;\n",
       "    }\n",
       "</style>\n",
       "<table border=\"1\" class=\"dataframe\">\n",
       "  <thead>\n",
       "    <tr style=\"text-align: right;\">\n",
       "      <th></th>\n",
       "      <th>Review</th>\n",
       "      <th>Review_length</th>\n",
       "    </tr>\n",
       "  </thead>\n",
       "  <tbody>\n",
       "    <tr>\n",
       "      <th>0</th>\n",
       "      <td>Get full access to The East India Company: Cor...</td>\n",
       "      <td>94</td>\n",
       "    </tr>\n",
       "    <tr>\n",
       "      <th>1</th>\n",
       "      <td>Purchase a license below to view the full coll...</td>\n",
       "      <td>53</td>\n",
       "    </tr>\n",
       "    <tr>\n",
       "      <th>2</th>\n",
       "      <td>Already have a license? Sign in to view the co...</td>\n",
       "      <td>54</td>\n",
       "    </tr>\n",
       "    <tr>\n",
       "      <th>3</th>\n",
       "      <td>The first Earl of Minto, Sir Gilbert Elliot Mu...</td>\n",
       "      <td>475</td>\n",
       "    </tr>\n",
       "    <tr>\n",
       "      <th>4</th>\n",
       "      <td>The collection offers valuable insights into t...</td>\n",
       "      <td>819</td>\n",
       "    </tr>\n",
       "  </tbody>\n",
       "</table>\n",
       "</div>"
      ],
      "text/plain": [
       "                                              Review  Review_length\n",
       "0  Get full access to The East India Company: Cor...             94\n",
       "1  Purchase a license below to view the full coll...             53\n",
       "2  Already have a license? Sign in to view the co...             54\n",
       "3  The first Earl of Minto, Sir Gilbert Elliot Mu...            475\n",
       "4  The collection offers valuable insights into t...            819"
      ]
     },
     "execution_count": 11,
     "metadata": {},
     "output_type": "execute_result"
    }
   ],
   "source": [
    "# Calculate the length of each review in the 'Review' column and store it in a new column 'Review_length'\n",
    "text_df['Review_length'] = text_df['Review'].apply(len)\n",
    "\n",
    "# Print the shape of the text_df DataFrame to display the number of rows and columns\n",
    "print(text_df.shape)\n",
    "\n",
    "# Display the first few rows of the text_df DataFrame including the new 'Review_length' column\n",
    "text_df.head()"
   ]
  },
  {
   "cell_type": "markdown",
   "metadata": {},
   "source": [
    "## Descriptive Statistics of Review Lengths"
   ]
  },
  {
   "cell_type": "code",
   "execution_count": 12,
   "metadata": {},
   "outputs": [
    {
     "data": {
      "text/plain": [
       "count     74.000000\n",
       "mean     236.310811\n",
       "std      168.126821\n",
       "min       37.000000\n",
       "25%      117.250000\n",
       "50%      210.500000\n",
       "75%      312.500000\n",
       "max      819.000000\n",
       "Name: Review_length, dtype: float64"
      ]
     },
     "execution_count": 12,
     "metadata": {},
     "output_type": "execute_result"
    }
   ],
   "source": [
    "# Generate descriptive statistics for the 'Review_length' column in the text_df DataFrame\n",
    "text_df['Review_length'].describe()"
   ]
  },
  {
   "cell_type": "markdown",
   "metadata": {},
   "source": [
    "## Distribution of Review Lengths"
   ]
  },
  {
   "cell_type": "code",
   "execution_count": 13,
   "metadata": {},
   "outputs": [
    {
     "name": "stderr",
     "output_type": "stream",
     "text": [
      "C:\\Users\\himav\\AppData\\Local\\Temp\\ipykernel_8852\\3313388152.py:5: UserWarning: \n",
      "\n",
      "`distplot` is a deprecated function and will be removed in seaborn v0.14.0.\n",
      "\n",
      "Please adapt your code to use either `displot` (a figure-level function with\n",
      "similar flexibility) or `histplot` (an axes-level function for histograms).\n",
      "\n",
      "For a guide to updating your code to use the new functions, please see\n",
      "https://gist.github.com/mwaskom/de44147ed2974457ad6372750bbe5751\n",
      "\n",
      "  sns.distplot(text_df['Review_length'] ,hist=True, bins=100)\n"
     ]
    },
    {
     "data": {
      "text/plain": [
       "<Axes: xlabel='Review_length', ylabel='Density'>"
      ]
     },
     "execution_count": 13,
     "metadata": {},
     "output_type": "execute_result"
    },
    {
     "data": {
      "image/png": "[encoded data removed]",
      "text/plain": [
       "<Figure size 1100x500 with 1 Axes>"
      ]
     },
     "metadata": {},
     "output_type": "display_data"
    }
   ],
   "source": [
    "# Set the figure size for seaborn plots to (11, 5) inches\n",
    "sns.set(rc={'figure.figsize':(11,5)})\n",
    "\n",
    "# Create a distribution plot (histogram) of the 'Review_length' column in text_df\n",
    "sns.distplot(text_df['Review_length'] ,hist=True, bins=100)"
   ]
  },
  {
   "cell_type": "markdown",
   "metadata": {},
   "source": [
    "## Counting Exclamation Marks"
   ]
  },
  {
   "cell_type": "code",
   "execution_count": 14,
   "metadata": {},
   "outputs": [],
   "source": [
    "# Count the number of exclamation marks ('!') in the input string_text.\n",
    "def count_exclamation_mark(string_text):\n",
    "    count = 0\n",
    "    for char in string_text:\n",
    "        if char == '!':\n",
    "            count += 1\n",
    "    return count"
   ]
  },
  {
   "cell_type": "markdown",
   "metadata": {},
   "source": [
    "## Counting Exclamation Marks in Reviews"
   ]
  },
  {
   "cell_type": "code",
   "execution_count": 15,
   "metadata": {},
   "outputs": [
    {
     "data": {
      "text/html": [
       "<div>\n",
       "<style scoped>\n",
       "    .dataframe tbody tr th:only-of-type {\n",
       "        vertical-align: middle;\n",
       "    }\n",
       "\n",
       "    .dataframe tbody tr th {\n",
       "        vertical-align: top;\n",
       "    }\n",
       "\n",
       "    .dataframe thead th {\n",
       "        text-align: right;\n",
       "    }\n",
       "</style>\n",
       "<table border=\"1\" class=\"dataframe\">\n",
       "  <thead>\n",
       "    <tr style=\"text-align: right;\">\n",
       "      <th></th>\n",
       "      <th>Review</th>\n",
       "      <th>Review_length</th>\n",
       "      <th>count_exc</th>\n",
       "    </tr>\n",
       "  </thead>\n",
       "  <tbody>\n",
       "    <tr>\n",
       "      <th>0</th>\n",
       "      <td>Get full access to The East India Company: Cor...</td>\n",
       "      <td>94</td>\n",
       "      <td>0</td>\n",
       "    </tr>\n",
       "    <tr>\n",
       "      <th>1</th>\n",
       "      <td>Purchase a license below to view the full coll...</td>\n",
       "      <td>53</td>\n",
       "      <td>0</td>\n",
       "    </tr>\n",
       "    <tr>\n",
       "      <th>2</th>\n",
       "      <td>Already have a license? Sign in to view the co...</td>\n",
       "      <td>54</td>\n",
       "      <td>0</td>\n",
       "    </tr>\n",
       "    <tr>\n",
       "      <th>3</th>\n",
       "      <td>The first Earl of Minto, Sir Gilbert Elliot Mu...</td>\n",
       "      <td>475</td>\n",
       "      <td>0</td>\n",
       "    </tr>\n",
       "    <tr>\n",
       "      <th>4</th>\n",
       "      <td>The collection offers valuable insights into t...</td>\n",
       "      <td>819</td>\n",
       "      <td>0</td>\n",
       "    </tr>\n",
       "  </tbody>\n",
       "</table>\n",
       "</div>"
      ],
      "text/plain": [
       "                                              Review  Review_length  count_exc\n",
       "0  Get full access to The East India Company: Cor...             94          0\n",
       "1  Purchase a license below to view the full coll...             53          0\n",
       "2  Already have a license? Sign in to view the co...             54          0\n",
       "3  The first Earl of Minto, Sir Gilbert Elliot Mu...            475          0\n",
       "4  The collection offers valuable insights into t...            819          0"
      ]
     },
     "execution_count": 15,
     "metadata": {},
     "output_type": "execute_result"
    }
   ],
   "source": [
    "# Apply the count_exclamation_mark function to each 'Review' in text_df and create a new column 'count_exc'\n",
    "text_df['count_exc'] = text_df['Review'].apply(count_exclamation_mark)\n",
    "\n",
    "# Display the first 5 rows of the text_df DataFrame including the new 'count_exc' column\n",
    "text_df.head(5)"
   ]
  },
  {
   "cell_type": "markdown",
   "metadata": {},
   "source": [
    "## Descriptive Statistics of Exclamation Mark Counts"
   ]
  },
  {
   "cell_type": "code",
   "execution_count": 16,
   "metadata": {},
   "outputs": [
    {
     "data": {
      "text/plain": [
       "count    74.0\n",
       "mean      0.0\n",
       "std       0.0\n",
       "min       0.0\n",
       "20%       0.0\n",
       "40%       0.0\n",
       "50%       0.0\n",
       "60%       0.0\n",
       "80%       0.0\n",
       "max       0.0\n",
       "Name: count_exc, dtype: float64"
      ]
     },
     "execution_count": 16,
     "metadata": {},
     "output_type": "execute_result"
    }
   ],
   "source": [
    "# Generate descriptive statistics for the 'count_exc' column in text_df, specifying percentiles from 20% to 100% in steps of 20%\n",
    "text_df['count_exc'].describe(np.arange(0.2, 1.0, 0.2))"
   ]
  },
  {
   "cell_type": "markdown",
   "metadata": {},
   "source": [
    "## Bar Plot of Exclamation Mark Counts"
   ]
  },
  {
   "cell_type": "code",
   "execution_count": 17,
   "metadata": {},
   "outputs": [
    {
     "data": {
      "text/plain": [
       "<Axes: xlabel='count_exc'>"
      ]
     },
     "execution_count": 17,
     "metadata": {},
     "output_type": "execute_result"
    },
    {
     "data": {
      "image/png": "[encoded data removed]",
      "text/plain": [
       "<Figure size 1100x500 with 1 Axes>"
      ]
     },
     "metadata": {},
     "output_type": "display_data"
    }
   ],
   "source": [
    "# Generate a bar plot showing the count of each unique value in the 'count_exc' column of text_df\n",
    "text_df['count_exc'].value_counts().sort_index().plot(kind='bar')"
   ]
  },
  {
   "cell_type": "markdown",
   "metadata": {},
   "source": [
    "## Finding Rows with Specific Exclamation Mark Count"
   ]
  },
  {
   "cell_type": "code",
   "execution_count": 18,
   "metadata": {},
   "outputs": [
    {
     "data": {
      "text/plain": [
       "Index([], dtype='int64')"
      ]
     },
     "execution_count": 18,
     "metadata": {},
     "output_type": "execute_result"
    }
   ],
   "source": [
    "# Find the index labels of rows in text_df where the 'count_exc' column has a value of 41\n",
    "text_df[text_df['count_exc']== 41].index"
   ]
  },
  {
   "cell_type": "markdown",
   "metadata": {},
   "source": [
    "## Retrieving Review Text"
   ]
  },
  {
   "cell_type": "code",
   "execution_count": 19,
   "metadata": {},
   "outputs": [
    {
     "data": {
      "text/plain": [
       "'The first Earl of Minto, Sir Gilbert Elliot Murray Kynynmound, served as governor-general of India from 1807 to 1813. This collection is drawn from his personal papers during his time as the premier of the East India Company (EIC). Amongst these documents you will find extensive correspondence with other officials, papers from the EIC’s political department, papers from its secret department, and files pertaining to the earl’s tenure as president of the Board of Control.'"
      ]
     },
     "execution_count": 19,
     "metadata": {},
     "output_type": "execute_result"
    }
   ],
   "source": [
    "# Retrieve the review text located at index label 3 from the 'Review' column of text_df\n",
    "text_df['Review'][3]"
   ]
  },
  {
   "cell_type": "markdown",
   "metadata": {},
   "source": [
    "## Calculating Review Polarity"
   ]
  },
  {
   "cell_type": "code",
   "execution_count": 20,
   "metadata": {},
   "outputs": [
    {
     "data": {
      "text/html": [
       "<div>\n",
       "<style scoped>\n",
       "    .dataframe tbody tr th:only-of-type {\n",
       "        vertical-align: middle;\n",
       "    }\n",
       "\n",
       "    .dataframe tbody tr th {\n",
       "        vertical-align: top;\n",
       "    }\n",
       "\n",
       "    .dataframe thead th {\n",
       "        text-align: right;\n",
       "    }\n",
       "</style>\n",
       "<table border=\"1\" class=\"dataframe\">\n",
       "  <thead>\n",
       "    <tr style=\"text-align: right;\">\n",
       "      <th></th>\n",
       "      <th>Review</th>\n",
       "      <th>Review_length</th>\n",
       "      <th>count_exc</th>\n",
       "      <th>Polarity</th>\n",
       "    </tr>\n",
       "  </thead>\n",
       "  <tbody>\n",
       "    <tr>\n",
       "      <th>0</th>\n",
       "      <td>Get full access to The East India Company: Cor...</td>\n",
       "      <td>94</td>\n",
       "      <td>0</td>\n",
       "      <td>-0.075000</td>\n",
       "    </tr>\n",
       "    <tr>\n",
       "      <th>1</th>\n",
       "      <td>Purchase a license below to view the full coll...</td>\n",
       "      <td>53</td>\n",
       "      <td>0</td>\n",
       "      <td>0.350000</td>\n",
       "    </tr>\n",
       "    <tr>\n",
       "      <th>2</th>\n",
       "      <td>Already have a license? Sign in to view the co...</td>\n",
       "      <td>54</td>\n",
       "      <td>0</td>\n",
       "      <td>0.000000</td>\n",
       "    </tr>\n",
       "    <tr>\n",
       "      <th>3</th>\n",
       "      <td>The first Earl of Minto, Sir Gilbert Elliot Mu...</td>\n",
       "      <td>475</td>\n",
       "      <td>0</td>\n",
       "      <td>-0.045833</td>\n",
       "    </tr>\n",
       "    <tr>\n",
       "      <th>4</th>\n",
       "      <td>The collection offers valuable insights into t...</td>\n",
       "      <td>819</td>\n",
       "      <td>0</td>\n",
       "      <td>0.044444</td>\n",
       "    </tr>\n",
       "  </tbody>\n",
       "</table>\n",
       "</div>"
      ],
      "text/plain": [
       "                                              Review  Review_length  \\\n",
       "0  Get full access to The East India Company: Cor...             94   \n",
       "1  Purchase a license below to view the full coll...             53   \n",
       "2  Already have a license? Sign in to view the co...             54   \n",
       "3  The first Earl of Minto, Sir Gilbert Elliot Mu...            475   \n",
       "4  The collection offers valuable insights into t...            819   \n",
       "\n",
       "   count_exc  Polarity  \n",
       "0          0 -0.075000  \n",
       "1          0  0.350000  \n",
       "2          0  0.000000  \n",
       "3          0 -0.045833  \n",
       "4          0  0.044444  "
      ]
     },
     "execution_count": 20,
     "metadata": {},
     "output_type": "execute_result"
    }
   ],
   "source": [
    "# Calculate the polarity (sentiment score) of each review in the 'Review' column using TextBlob and store the results in a new column 'Polarity' in the text_df DataFrame\n",
    "text_df['Polarity'] = text_df['Review'].apply(lambda x: TextBlob(x).sentiment.polarity)\n",
    "\n",
    "# Display the first 5 rows of the text_df DataFrame including the new 'Polarity' column\n",
    "text_df.head(5)"
   ]
  },
  {
   "cell_type": "markdown",
   "metadata": {},
   "source": [
    "## Distribution of Sentiment Polarity Scores"
   ]
  },
  {
   "cell_type": "code",
   "execution_count": 21,
   "metadata": {},
   "outputs": [
    {
     "data": {
      "text/plain": [
       "<Axes: ylabel='Frequency'>"
      ]
     },
     "execution_count": 21,
     "metadata": {},
     "output_type": "execute_result"
    },
    {
     "data": {
      "image/png": "[encoded data removed]",
      "text/plain": [
       "<Figure size 1100x500 with 1 Axes>"
      ]
     },
     "metadata": {},
     "output_type": "display_data"
    }
   ],
   "source": [
    "# Generate a histogram plot to visualize the distribution of sentiment polarity scores in the 'Polarity' column of text_df\n",
    "text_df['Polarity'].plot(kind='hist', bins=100)"
   ]
  },
  {
   "cell_type": "markdown",
   "metadata": {},
   "source": [
    "## Creating a Copy for Preprocessing"
   ]
  },
  {
   "cell_type": "code",
   "execution_count": 22,
   "metadata": {},
   "outputs": [],
   "source": [
    "# Create a copy of the text_df DataFrame and assign it to text_prep\n",
    "text_prep = text_df.copy()"
   ]
  },
  {
   "cell_type": "markdown",
   "metadata": {},
   "source": [
    "## Standard Punctuation Characters"
   ]
  },
  {
   "cell_type": "code",
   "execution_count": 23,
   "metadata": {},
   "outputs": [
    {
     "data": {
      "text/plain": [
       "'!\"#$%&\\'()*+,-./:;<=>?@[\\\\]^_`{|}~'"
      ]
     },
     "execution_count": 23,
     "metadata": {},
     "output_type": "execute_result"
    }
   ],
   "source": [
    "# The string.punctuation constant contains all standard punctuation characters\n",
    "string.punctuation"
   ]
  },
  {
   "cell_type": "markdown",
   "metadata": {},
   "source": [
    "## Removing Punctuation from Text"
   ]
  },
  {
   "cell_type": "code",
   "execution_count": 24,
   "metadata": {},
   "outputs": [],
   "source": [
    "# Remove punctuation characters from the input messy_str.\n",
    "def punctuation_removal(messy_str):\n",
    "    \n",
    "    # List comprehension to filter out characters that are not in string.punctuation\n",
    "    clean_list = [char for char in messy_str if char not in string.punctuation]\n",
    "    \n",
    "    # Join the filtered characters back into a single string\n",
    "    clean_str = ''.join(clean_list)\n",
    "    return clean_str"
   ]
  },
  {
   "cell_type": "markdown",
   "metadata": {},
   "source": [
    "## Applying Punctuation Removal to Reviews"
   ]
  },
  {
   "cell_type": "code",
   "execution_count": 25,
   "metadata": {},
   "outputs": [
    {
     "data": {
      "text/plain": [
       "0    Get full access to The East India Company Corr...\n",
       "1    Purchase a license below to view the full coll...\n",
       "2    Already have a license Sign in to view the col...\n",
       "3    The first Earl of Minto Sir Gilbert Elliot Mur...\n",
       "4    The collection offers valuable insights into t...\n",
       "Name: Review, dtype: object"
      ]
     },
     "execution_count": 25,
     "metadata": {},
     "output_type": "execute_result"
    }
   ],
   "source": [
    "# Apply the punctuation_removal function to each review in the 'Review' column of text_prep\n",
    "text_prep['Review'] = text_prep['Review'].apply(punctuation_removal)\n",
    "\n",
    "# Display the first few cleaned reviews from the 'Review' column in text_prep\n",
    "text_prep['Review'].head()"
   ]
  },
  {
   "cell_type": "markdown",
   "metadata": {},
   "source": [
    "## Collecting Adjectives and Verbs"
   ]
  },
  {
   "cell_type": "code",
   "execution_count": 26,
   "metadata": {},
   "outputs": [],
   "source": [
    "# Collect adjectives and verbs from the input review_string.\n",
    "def adj_collector(review_string):\n",
    "    new_string=[] # Initialize an empty list to store extracted words\n",
    "\n",
    "    # Tokenize the review_string into words\n",
    "    review_string = word_tokenize(review_string)\n",
    "    \n",
    "    # Use nltk's part-of-speech tagging to get tuples of (word, POS tag)\n",
    "    tup_word = nltk.pos_tag(review_string)\n",
    "    \n",
    "    # Iterate through each tuple (word, POS tag)\n",
    "    for tup in tup_word:\n",
    "        if 'VB' in tup[1] or tup[1]=='JJ':  #Verbs and Adjectives\n",
    "            new_string.append(tup[0]) \n",
    "            \n",
    "    # Join the collected words into a single string\n",
    "    return ' '.join(new_string)"
   ]
  },
  {
   "cell_type": "markdown",
   "metadata": {},
   "source": [
    "## Extracting Adjectives and Verbs from Reviews"
   ]
  },
  {
   "cell_type": "code",
   "execution_count": 27,
   "metadata": {},
   "outputs": [
    {
     "data": {
      "text/plain": [
       "0                                                 full\n",
       "1                                   Purchase view full\n",
       "2                                    have license view\n",
       "3    first served is drawn personal find extensive ...\n",
       "4    offers valuable upper was consolidating Indian...\n",
       "5    is rich wishing explore powerful appeal intere...\n",
       "6                                                first\n",
       "Name: Review, dtype: object"
      ]
     },
     "execution_count": 27,
     "metadata": {},
     "output_type": "execute_result"
    }
   ],
   "source": [
    "# Apply the adj_collector function to each review in the 'Review' column of text_prep\n",
    "text_prep['Review'] = text_prep['Review'].apply(adj_collector)\n",
    "\n",
    "# Display the first 7 reviews from the 'Review' column in text_prep after applying adj_collector\n",
    "text_prep['Review'].head(7)"
   ]
  },
  {
   "cell_type": "markdown",
   "metadata": {},
   "source": [
    "## Importing NLTK and Using Stopwords"
   ]
  },
  {
   "cell_type": "code",
   "execution_count": 28,
   "metadata": {},
   "outputs": [
    {
     "name": "stdout",
     "output_type": "stream",
     "text": [
      "['i', \"you'd\", 'hers', 'which', 'were', 'a', 'at', 'above', 'again', 'both', 'own', \"don't\", 'aren', 'haven', \"shan't\"]\n"
     ]
    },
    {
     "name": "stderr",
     "output_type": "stream",
     "text": [
      "[nltk_data] Downloading package stopwords to\n",
      "[nltk_data]     C:\\Users\\himav\\AppData\\Roaming\\nltk_data...\n",
      "[nltk_data]   Package stopwords is already up-to-date!\n"
     ]
    }
   ],
   "source": [
    "# Import nltk for natural language processing and stopwords corpus for common word removal\n",
    "import nltk\n",
    "from nltk.corpus import stopwords\n",
    "\n",
    "# Download the stopwords dataset\n",
    "nltk.download('stopwords')\n",
    "\n",
    "# Now you can use stopwords\n",
    "print(stopwords.words('english')[::12])"
   ]
  },
  {
   "cell_type": "markdown",
   "metadata": {},
   "source": [
    "## Printing Every 12th Word from Stopwords"
   ]
  },
  {
   "cell_type": "code",
   "execution_count": 29,
   "metadata": {},
   "outputs": [
    {
     "name": "stdout",
     "output_type": "stream",
     "text": [
      "['i', \"you'd\", 'hers', 'which', 'were', 'a', 'at', 'above', 'again', 'both', 'own', \"don't\", 'aren', 'haven', \"shan't\"]\n"
     ]
    }
   ],
   "source": [
    "# Print every 12th word from the list of English stopwords\n",
    "print(stopwords.words('english')[::12])"
   ]
  },
  {
   "cell_type": "markdown",
   "metadata": {},
   "source": [
    "## Customizing Stopwords"
   ]
  },
  {
   "cell_type": "code",
   "execution_count": 30,
   "metadata": {},
   "outputs": [],
   "source": [
    "# Get the list of English stopwords from NLTK's stopwords corpus\n",
    "stop = stopwords.words('english')\n",
    "\n",
    "# Append the custom stopword \"i'm\" to the stop list\n",
    "stop.append(\"i'm\")"
   ]
  },
  {
   "cell_type": "markdown",
   "metadata": {},
   "source": [
    "## Cleaning and Customizing Stopwords"
   ]
  },
  {
   "cell_type": "code",
   "execution_count": 31,
   "metadata": {},
   "outputs": [
    {
     "name": "stdout",
     "output_type": "stream",
     "text": [
      "['i', 'youd', 'hers', 'which', 'were', 'a', 'at', 'above', 'again', 'both', 'own', 'dont', 'aren', 'haven', 'shant']\n"
     ]
    }
   ],
   "source": [
    "# Initialize an empty list to store cleaned stopwords\n",
    "stop_words = []\n",
    "\n",
    "# Iterate through each item in the stop list\n",
    "for item in stop: \n",
    "    new_item = punctuation_removal(item)\n",
    "    stop_words.append(new_item) \n",
    "    \n",
    "# Print every 12th cleaned stopword from the stop_words list\n",
    "print(stop_words[::12])"
   ]
  },
  {
   "cell_type": "markdown",
   "metadata": {},
   "source": [
    "## Defining Terms Related to Colonization"
   ]
  },
  {
   "cell_type": "code",
   "execution_count": 32,
   "metadata": {},
   "outputs": [],
   "source": [
    "# Define a string containing terms related to colonization\n",
    "colonization_words = \"Colony, Imperialism, Colonizer, Colonized, Empire, Protectorate, Settlement, Exploitation, Trade, Missionary, Plantation, Native, Civilization, Assimilation, Subjugation, Commerce, Conquest, Territory, Administration, Sovereignty\""
   ]
  },
  {
   "cell_type": "markdown",
   "metadata": {},
   "source": [
    "## Removing Stopwords and Colonization-Related Words"
   ]
  },
  {
   "cell_type": "code",
   "execution_count": 33,
   "metadata": {},
   "outputs": [],
   "source": [
    "# Remove stopwords and colonization-related words from the input messy_str.\n",
    "def stopwords_removal(messy_str):\n",
    "    messy_str = word_tokenize(messy_str)\n",
    "    \n",
    "    # Filter out words that are stopwords or in the colonization_words list, and convert to lowercase\n",
    "    return [word.lower() for word in messy_str \n",
    "            if word.lower() not in stop_words and word.lower() not in colonization_words ]"
   ]
  },
  {
   "cell_type": "markdown",
   "metadata": {},
   "source": [
    "## Applying Stopwords and Colonization-Related Words Removal"
   ]
  },
  {
   "cell_type": "code",
   "execution_count": 34,
   "metadata": {},
   "outputs": [
    {
     "data": {
      "text/plain": [
       "0                                               [full]\n",
       "1                               [purchase, view, full]\n",
       "2                                      [license, view]\n",
       "3    [first, served, drawn, personal, find, extensi...\n",
       "4    [offers, valuable, upper, consolidating, india...\n",
       "Name: Review, dtype: object"
      ]
     },
     "execution_count": 34,
     "metadata": {},
     "output_type": "execute_result"
    }
   ],
   "source": [
    "# Apply the stopwords_removal function to each review in the 'Review' column of text_prep\n",
    "text_prep['Review'] = text_prep['Review'].apply(stopwords_removal)\n",
    "\n",
    "# Display the first few cleaned reviews from the 'Review' column in text_prep\n",
    "text_prep['Review'].head()"
   ]
  },
  {
   "cell_type": "markdown",
   "metadata": {},
   "source": [
    "## Printing Preprocessed Review"
   ]
  },
  {
   "cell_type": "code",
   "execution_count": 35,
   "metadata": {},
   "outputs": [
    {
     "name": "stdout",
     "output_type": "stream",
     "text": [
      "['purchase', 'view', 'full']\n"
     ]
    }
   ],
   "source": [
    "# Print the preprocessed review at index 1 from the 'Review' column in text_prep\n",
    "print(text_prep['Review'][1])"
   ]
  },
  {
   "cell_type": "markdown",
   "metadata": {},
   "source": [
    "## Removing Words Containing Numbers"
   ]
  },
  {
   "cell_type": "code",
   "execution_count": 36,
   "metadata": {},
   "outputs": [],
   "source": [
    "# Remove words containing numbers from the input list_text.\n",
    "def drop_numbers(list_text):\n",
    "    list_text_new = []\n",
    "    \n",
    "    # Iterate through each word (i) in list_text\n",
    "    for i in list_text:\n",
    "        if not re.search('\\d', i):\n",
    "            list_text_new.append(i)\n",
    "            \n",
    "    # Join the cleaned words into a single string\n",
    "    return ' '.join(list_text_new)"
   ]
  },
  {
   "cell_type": "markdown",
   "metadata": {},
   "source": [
    "## Applying Number Removal to Reviews"
   ]
  },
  {
   "cell_type": "code",
   "execution_count": 37,
   "metadata": {},
   "outputs": [
    {
     "data": {
      "text/plain": [
       "0                                                 full\n",
       "1                                   purchase view full\n",
       "2                                         license view\n",
       "3    first served drawn personal find extensive pol...\n",
       "4    offers valuable upper consolidating indian est...\n",
       "Name: Review, dtype: object"
      ]
     },
     "execution_count": 37,
     "metadata": {},
     "output_type": "execute_result"
    }
   ],
   "source": [
    "# Apply the drop_numbers function to each review in the 'Review' column of text_prep\n",
    "text_prep['Review'] = text_prep['Review'].apply(drop_numbers)\n",
    "\n",
    "# Display the first few cleaned reviews from the 'Review' column in text_prep\n",
    "text_prep['Review'].head()"
   ]
  },
  {
   "cell_type": "markdown",
   "metadata": {},
   "source": [
    "## Printing Preprocessed Review at Index 2"
   ]
  },
  {
   "cell_type": "code",
   "execution_count": 38,
   "metadata": {},
   "outputs": [
    {
     "name": "stdout",
     "output_type": "stream",
     "text": [
      "license view\n"
     ]
    }
   ],
   "source": [
    "# Print the preprocessed review at index 2 from the 'Review' column in text_prep\n",
    "print(text_prep['Review'][2]) "
   ]
  },
  {
   "cell_type": "markdown",
   "metadata": {},
   "source": [
    "# Sentimental analysis"
   ]
  },
  {
   "cell_type": "markdown",
   "metadata": {},
   "source": [
    "## Creating an Instance of PorterStemmer"
   ]
  },
  {
   "cell_type": "code",
   "execution_count": 39,
   "metadata": {},
   "outputs": [],
   "source": [
    "# Create an instance of the PorterStemmer from NLTK\n",
    "porter = PorterStemmer()"
   ]
  },
  {
   "cell_type": "markdown",
   "metadata": {},
   "source": [
    "## Splitting Reviews into Words"
   ]
  },
  {
   "cell_type": "code",
   "execution_count": 40,
   "metadata": {},
   "outputs": [
    {
     "data": {
      "text/plain": [
       "0                                               [full]\n",
       "1                               [purchase, view, full]\n",
       "2                                      [license, view]\n",
       "3    [first, served, drawn, personal, find, extensi...\n",
       "4    [offers, valuable, upper, consolidating, india...\n",
       "Name: Review, dtype: object"
      ]
     },
     "execution_count": 40,
     "metadata": {},
     "output_type": "execute_result"
    }
   ],
   "source": [
    "# Split each review in the 'Review' column of text_prep into a list of words\n",
    "text_prep['Review'] = text_prep['Review'].apply(lambda x: x.split())\n",
    "\n",
    "# Display the first few reviews from the 'Review' column in text_prep after splitting\n",
    "text_prep['Review'].head()"
   ]
  },
  {
   "cell_type": "markdown",
   "metadata": {},
   "source": [
    "## Applying Stemming to Words"
   ]
  },
  {
   "cell_type": "code",
   "execution_count": 41,
   "metadata": {},
   "outputs": [],
   "source": [
    "# Apply stemming using PorterStemmer to each word in the input text_list.\n",
    "def stem_update(text_list):\n",
    "    text_list_new = []\n",
    "    \n",
    "    # Iterate through each word (word) in text_list\n",
    "    for word in text_list:\n",
    "        word = porter.stem(word)\n",
    "        text_list_new.append(word) # Append the stemmed word to text_list_new\n",
    "    return text_list_new"
   ]
  },
  {
   "cell_type": "markdown",
   "metadata": {},
   "source": [
    "## Applying Stemming to Reviews"
   ]
  },
  {
   "cell_type": "code",
   "execution_count": 42,
   "metadata": {},
   "outputs": [
    {
     "data": {
      "text/plain": [
       "0                                               [full]\n",
       "1                                [purchas, view, full]\n",
       "2                                       [licens, view]\n",
       "3    [first, serv, drawn, person, find, extens, pol...\n",
       "4    [offer, valuabl, upper, consolid, indian, esta...\n",
       "Name: Review, dtype: object"
      ]
     },
     "execution_count": 42,
     "metadata": {},
     "output_type": "execute_result"
    }
   ],
   "source": [
    "# Apply the stem_update function to each list of words (review) in the 'Review' column of text_prep\n",
    "text_prep['Review'] = text_prep['Review'].apply(stem_update)\n",
    "\n",
    "# Display the first few reviews from the 'Review' column in text_prep after stemming\n",
    "text_prep['Review'].head()"
   ]
  },
  {
   "cell_type": "markdown",
   "metadata": {},
   "source": [
    "## Joining Stemmed Words into Reviews"
   ]
  },
  {
   "cell_type": "code",
   "execution_count": 43,
   "metadata": {},
   "outputs": [
    {
     "data": {
      "text/plain": [
       "0                                                 full\n",
       "1                                    purchas view full\n",
       "2                                          licens view\n",
       "3    first serv drawn person find extens polit secr...\n",
       "4    offer valuabl upper consolid indian establish ...\n",
       "Name: Review, dtype: object"
      ]
     },
     "execution_count": 43,
     "metadata": {},
     "output_type": "execute_result"
    }
   ],
   "source": [
    "# Join each list of stemmed words (review) back into a single string\n",
    "text_prep['Review'] = text_prep['Review'].apply(lambda x: ' '.join(x))\n",
    "\n",
    "# Display the first few reviews from the 'Review' column in text_prep after joining\n",
    "text_prep['Review'].head()"
   ]
  },
  {
   "cell_type": "markdown",
   "metadata": {},
   "source": [
    "## Inspecting the Final Preprocessed Data"
   ]
  },
  {
   "cell_type": "code",
   "execution_count": 44,
   "metadata": {},
   "outputs": [
    {
     "data": {
      "text/html": [
       "<div>\n",
       "<style scoped>\n",
       "    .dataframe tbody tr th:only-of-type {\n",
       "        vertical-align: middle;\n",
       "    }\n",
       "\n",
       "    .dataframe tbody tr th {\n",
       "        vertical-align: top;\n",
       "    }\n",
       "\n",
       "    .dataframe thead th {\n",
       "        text-align: right;\n",
       "    }\n",
       "</style>\n",
       "<table border=\"1\" class=\"dataframe\">\n",
       "  <thead>\n",
       "    <tr style=\"text-align: right;\">\n",
       "      <th></th>\n",
       "      <th>Review</th>\n",
       "      <th>Review_length</th>\n",
       "      <th>count_exc</th>\n",
       "      <th>Polarity</th>\n",
       "    </tr>\n",
       "  </thead>\n",
       "  <tbody>\n",
       "    <tr>\n",
       "      <th>0</th>\n",
       "      <td>full</td>\n",
       "      <td>94</td>\n",
       "      <td>0</td>\n",
       "      <td>-0.075000</td>\n",
       "    </tr>\n",
       "    <tr>\n",
       "      <th>1</th>\n",
       "      <td>purchas view full</td>\n",
       "      <td>53</td>\n",
       "      <td>0</td>\n",
       "      <td>0.350000</td>\n",
       "    </tr>\n",
       "    <tr>\n",
       "      <th>2</th>\n",
       "      <td>licens view</td>\n",
       "      <td>54</td>\n",
       "      <td>0</td>\n",
       "      <td>0.000000</td>\n",
       "    </tr>\n",
       "    <tr>\n",
       "      <th>3</th>\n",
       "      <td>first serv drawn person find extens polit secr...</td>\n",
       "      <td>475</td>\n",
       "      <td>0</td>\n",
       "      <td>-0.045833</td>\n",
       "    </tr>\n",
       "    <tr>\n",
       "      <th>4</th>\n",
       "      <td>offer valuabl upper consolid indian establish ...</td>\n",
       "      <td>819</td>\n",
       "      <td>0</td>\n",
       "      <td>0.044444</td>\n",
       "    </tr>\n",
       "  </tbody>\n",
       "</table>\n",
       "</div>"
      ],
      "text/plain": [
       "                                              Review  Review_length  \\\n",
       "0                                               full             94   \n",
       "1                                  purchas view full             53   \n",
       "2                                        licens view             54   \n",
       "3  first serv drawn person find extens polit secr...            475   \n",
       "4  offer valuabl upper consolid indian establish ...            819   \n",
       "\n",
       "   count_exc  Polarity  \n",
       "0          0 -0.075000  \n",
       "1          0  0.350000  \n",
       "2          0  0.000000  \n",
       "3          0 -0.045833  \n",
       "4          0  0.044444  "
      ]
     },
     "execution_count": 44,
     "metadata": {},
     "output_type": "execute_result"
    }
   ],
   "source": [
    "# Display the first few rows of the text_prep DataFrame\n",
    "text_prep.head()"
   ]
  },
  {
   "cell_type": "markdown",
   "metadata": {},
   "source": [
    "## Installing Required Libraries"
   ]
  },
  {
   "cell_type": "code",
   "execution_count": 45,
   "metadata": {},
   "outputs": [
    {
     "name": "stdout",
     "output_type": "stream",
     "text": [
      "Requirement already satisfied: pandas in c:\\users\\himav\\.anaconda\\lib\\site-packages (2.0.3)\n",
      "Requirement already satisfied: wordcloud in c:\\users\\himav\\.anaconda\\lib\\site-packages (1.9.3)\n",
      "Requirement already satisfied: matplotlib in c:\\users\\himav\\.anaconda\\lib\\site-packages (3.7.2)\n",
      "Requirement already satisfied: nltk in c:\\users\\himav\\.anaconda\\lib\\site-packages (3.8.1)\n",
      "Requirement already satisfied: python-dateutil>=2.8.2 in c:\\users\\himav\\.anaconda\\lib\\site-packages (from pandas) (2.8.2)\n",
      "Requirement already satisfied: pytz>=2020.1 in c:\\users\\himav\\.anaconda\\lib\\site-packages (from pandas) (2023.3.post1)\n",
      "Requirement already satisfied: tzdata>=2022.1 in c:\\users\\himav\\.anaconda\\lib\\site-packages (from pandas) (2023.3)\n",
      "Requirement already satisfied: numpy>=1.21.0 in c:\\users\\himav\\.anaconda\\lib\\site-packages (from pandas) (1.24.3)\n",
      "Requirement already satisfied: pillow in c:\\users\\himav\\.anaconda\\lib\\site-packages (from wordcloud) (9.4.0)\n",
      "Requirement already satisfied: contourpy>=1.0.1 in c:\\users\\himav\\.anaconda\\lib\\site-packages (from matplotlib) (1.0.5)\n",
      "Requirement already satisfied: cycler>=0.10 in c:\\users\\himav\\.anaconda\\lib\\site-packages (from matplotlib) (0.11.0)\n",
      "Requirement already satisfied: fonttools>=4.22.0 in c:\\users\\himav\\.anaconda\\lib\\site-packages (from matplotlib) (4.25.0)\n",
      "Requirement already satisfied: kiwisolver>=1.0.1 in c:\\users\\himav\\.anaconda\\lib\\site-packages (from matplotlib) (1.4.4)\n",
      "Requirement already satisfied: packaging>=20.0 in c:\\users\\himav\\.anaconda\\lib\\site-packages (from matplotlib) (23.1)\n",
      "Requirement already satisfied: pyparsing<3.1,>=2.3.1 in c:\\users\\himav\\.anaconda\\lib\\site-packages (from matplotlib) (3.0.9)\n",
      "Requirement already satisfied: click in c:\\users\\himav\\.anaconda\\lib\\site-packages (from nltk) (8.0.4)\n",
      "Requirement already satisfied: joblib in c:\\users\\himav\\.anaconda\\lib\\site-packages (from nltk) (1.2.0)\n",
      "Requirement already satisfied: regex>=2021.8.3 in c:\\users\\himav\\.anaconda\\lib\\site-packages (from nltk) (2022.7.9)\n",
      "Requirement already satisfied: tqdm in c:\\users\\himav\\.anaconda\\lib\\site-packages (from nltk) (4.65.0)\n",
      "Requirement already satisfied: six>=1.5 in c:\\users\\himav\\.anaconda\\lib\\site-packages (from python-dateutil>=2.8.2->pandas) (1.16.0)\n",
      "Requirement already satisfied: colorama in c:\\users\\himav\\.anaconda\\lib\\site-packages (from click->nltk) (0.4.6)\n"
     ]
    }
   ],
   "source": [
    "# Install required libraries for data analysis and visualization\n",
    "!pip install pandas wordcloud matplotlib nltk"
   ]
  },
  {
   "cell_type": "markdown",
   "metadata": {},
   "source": [
    "## Importing Libraries and Generating Word Cloud"
   ]
  },
  {
   "cell_type": "code",
   "execution_count": 54,
   "metadata": {},
   "outputs": [
    {
     "name": "stderr",
     "output_type": "stream",
     "text": [
      "[nltk_data] Downloading package stopwords to\n",
      "[nltk_data]     C:\\Users\\himav\\AppData\\Roaming\\nltk_data...\n",
      "[nltk_data]   Package stopwords is already up-to-date!\n"
     ]
    },
    {
     "data": {
      "image/png": "[encoded data removed]",
      "text/plain": [
       "<Figure size 1000x800 with 1 Axes>"
      ]
     },
     "metadata": {},
     "output_type": "display_data"
    }
   ],
   "source": [
    "import pandas as pd\n",
    "from wordcloud import WordCloud\n",
    "import matplotlib.pyplot as plt\n",
    "import nltk\n",
    "from nltk.corpus import stopwords\n",
    "from PIL import Image\n",
    "import numpy as np\n",
    "\n",
    "# Download stopwords if not already present\n",
    "nltk.download('stopwords')\n",
    "\n",
    "# Create an instance of the stopwords\n",
    "stop_words = set(stopwords.words('english'))\n",
    "\n",
    "# Assuming you have loaded your text data into 'text_prep' DataFrame and processed it\n",
    "text = ' '.join(text_prep['Review'])\n",
    "\n",
    "# Load the image mask of India using the provided path\n",
    "india_mask_path = \"C:\\\\Users\\\\himav\\\\Downloads\\\\Final Indian Map.png\"\n",
    "india_mask = np.array(Image.open(india_mask_path))\n",
    "\n",
    "# Generate the word cloud using the India map mask\n",
    "wordcloud = WordCloud(width=1500, height=1500, background_color='white', stopwords=stop_words, mask=india_mask, contour_width=0, contour_color='black').generate(text)\n",
    "\n",
    "# Display the word cloud using matplotlib\n",
    "plt.figure(figsize=(10, 8))\n",
    "plt.imshow(wordcloud, interpolation='bilinear')\n",
    "plt.axis('off')  # Hide the axes\n",
    "plt.show()\n"
   ]
  },
  {
   "cell_type": "markdown",
   "metadata": {},
   "source": [
    "## Defining Sentiment Polarity Function"
   ]
  },
  {
   "cell_type": "code",
   "execution_count": 47,
   "metadata": {},
   "outputs": [],
   "source": [
    "# Define a function to get the sentiment polarity\n",
    "def get_polarity(text):\n",
    "    return TextBlob(text).sentiment.polarity"
   ]
  },
  {
   "cell_type": "markdown",
   "metadata": {},
   "source": [
    "## Applying Sentiment Polarity Function"
   ]
  },
  {
   "cell_type": "code",
   "execution_count": 48,
   "metadata": {},
   "outputs": [
    {
     "name": "stdout",
     "output_type": "stream",
     "text": [
      "                                               Review  Review_length  \\\n",
      "0                                                full             94   \n",
      "1                                   purchas view full             53   \n",
      "2                                         licens view             54   \n",
      "3   first serv drawn person find extens polit secr...            475   \n",
      "4   offer valuabl upper consolid indian establish ...            819   \n",
      "..                                                ...            ...   \n",
      "69  british slave trade mani indian exist indentur...            269   \n",
      "70                 due tempestu french current featur            148   \n",
      "71            indian led signific relat devot foreign            229   \n",
      "72  interest scientif rapid technolog characterist...            462   \n",
      "73  contain numer detail publish featur becam supe...            248   \n",
      "\n",
      "    count_exc  Polarity  Sentiment_Polarity  \n",
      "0           0 -0.075000            0.350000  \n",
      "1           0  0.350000            0.350000  \n",
      "2           0  0.000000            0.000000  \n",
      "3           0 -0.045833           -0.075000  \n",
      "4           0  0.044444           -0.100000  \n",
      "..        ...       ...                 ...  \n",
      "69          0  0.025000            0.000000  \n",
      "70          0 -0.006250           -0.041667  \n",
      "71          0 -0.020833           -0.125000  \n",
      "72          0  0.169048            0.250000  \n",
      "73          0  0.000000            0.000000  \n",
      "\n",
      "[74 rows x 5 columns]\n"
     ]
    }
   ],
   "source": [
    "# Apply the function to the Review column\n",
    "text_prep['Sentiment_Polarity'] = text_prep['Review'].apply(get_polarity)\n",
    "\n",
    "# Display the DataFrame with the new Sentiment_Polarity column\n",
    "print(text_prep)"
   ]
  },
  {
   "cell_type": "markdown",
   "metadata": {},
   "source": [
    "## Visualizing Sentiment Polarity"
   ]
  },
  {
   "cell_type": "code",
   "execution_count": 49,
   "metadata": {},
   "outputs": [
    {
     "data": {
      "image/png": "[encoded data removed]",
      "text/plain": [
       "<Figure size 1000x600 with 1 Axes>"
      ]
     },
     "metadata": {},
     "output_type": "display_data"
    }
   ],
   "source": [
    "# Create a scatter plot to visualize sentiment polarity against review length\n",
    "plt.figure(figsize=(10, 6))\n",
    "sns.scatterplot(data=text_prep, x='Review_length', y='Sentiment_Polarity', hue='count_exc', palette='coolwarm', size='Polarity', sizes=(20, 200))\n",
    "\n",
    "# Set plot title, labels, grid, and legend\n",
    "plt.title('Sentiment Polarity Visualization')\n",
    "plt.xlabel('Review Length')\n",
    "plt.ylabel('Sentiment Polarity')\n",
    "plt.grid(True)\n",
    "plt.legend(title='Count of exclamation marks')\n",
    "\n",
    "# Display the plot\n",
    "plt.show()"
   ]
  },
  {
   "cell_type": "markdown",
   "metadata": {},
   "source": [
    "## Comparing Sentiment Polarity with Polarity"
   ]
  },
  {
   "cell_type": "code",
   "execution_count": 50,
   "metadata": {},
   "outputs": [
    {
     "data": {
      "image/png": "[encoded data removed]",
      "text/plain": [
       "<Figure size 800x600 with 1 Axes>"
      ]
     },
     "metadata": {},
     "output_type": "display_data"
    }
   ],
   "source": [
    "# Extracting data\n",
    "polarity = text_prep[\"Polarity\"]\n",
    "sentiment_polarity = text_prep[\"Sentiment_Polarity\"]\n",
    "\n",
    "# Plotting\n",
    "plt.figure(figsize=(8, 6))\n",
    "plt.scatter(polarity, sentiment_polarity, color='blue', alpha=0.7)\n",
    "plt.title('Sentiment Polarity vs Polarity')\n",
    "plt.xlabel('Polarity')\n",
    "plt.ylabel('Sentiment Polarity')\n",
    "plt.grid(True)\n",
    "plt.show()"
   ]
  },
  {
   "cell_type": "markdown",
   "metadata": {},
   "source": [
    "## Distribution of Positive and Negative Polarity"
   ]
  },
  {
   "cell_type": "code",
   "execution_count": 51,
   "metadata": {},
   "outputs": [
    {
     "data": {
      "image/png": "[encoded data removed]",
      "text/plain": [
       "<Figure size 800x600 with 1 Axes>"
      ]
     },
     "metadata": {},
     "output_type": "display_data"
    }
   ],
   "source": [
    "# Extracting positive and negative polarities\n",
    "positive_polarity = [p for p in text_prep[\"Sentiment_Polarity\"] if p >= 0]\n",
    "negative_polarity = [p for p in text_prep[\"Sentiment_Polarity\"] if p < 0]\n",
    "\n",
    "# Counting positive and negative polarities\n",
    "positive_count = len(positive_polarity)\n",
    "negative_count = len(negative_polarity)\n",
    "\n",
    "# Plotting\n",
    "plt.figure(figsize=(8, 6))\n",
    "plt.bar(['Positive', 'Negative'], [positive_count, negative_count], color=['green', 'red'])\n",
    "plt.title('Distribution of Positive and Negative Polarity')\n",
    "plt.xlabel('Polarity')\n",
    "plt.ylabel('Count')\n",
    "plt.show()"
   ]
  },
  {
   "cell_type": "markdown",
   "metadata": {},
   "source": [
    "## Metrics evaluation"
   ]
  },
  {
   "cell_type": "code",
   "execution_count": 52,
   "metadata": {},
   "outputs": [
    {
     "name": "stdout",
     "output_type": "stream",
     "text": [
      "Accuracy: 0.7162162162162162\n",
      "Precision: 0.5\n",
      "Recall: 0.8571428571428571\n",
      "F1 Score: 0.631578947368421\n",
      "Confusion Matrix:\n",
      " [[35 18]\n",
      " [ 3 18]]\n",
      "MAE: 0.08296170277420277\n",
      "RMSE: 0.16889096626841413\n"
     ]
    }
   ],
   "source": [
    "import numpy as np\n",
    "from sklearn.metrics import accuracy_score, precision_score, recall_score, f1_score, confusion_matrix, mean_absolute_error, mean_squared_error\n",
    "\n",
    "# Assuming you have the actual sentiment labels derived from Sentiment_Polarity\n",
    "actual_sentiments = np.where(text_prep['Sentiment_Polarity'] > 0, 1, 0)\n",
    "\n",
    "# Predicted sentiments based on Polarity (positive if Polarity > 0, negative otherwise)\n",
    "predicted_sentiments = np.where(text_prep['Polarity'] > 0, 1, 0)\n",
    "\n",
    "# Accuracy\n",
    "accuracy = accuracy_score(actual_sentiments, predicted_sentiments)\n",
    "print(\"Accuracy:\", accuracy)\n",
    "\n",
    "# Precision and Recall\n",
    "precision = precision_score(actual_sentiments, predicted_sentiments)\n",
    "recall = recall_score(actual_sentiments, predicted_sentiments)\n",
    "print(\"Precision:\", precision)\n",
    "print(\"Recall:\", recall)\n",
    "\n",
    "# F1 Score\n",
    "f1 = f1_score(actual_sentiments, predicted_sentiments)\n",
    "print(\"F1 Score:\", f1)\n",
    "\n",
    "# Confusion Matrix\n",
    "conf_matrix = confusion_matrix(actual_sentiments, predicted_sentiments)\n",
    "print(\"Confusion Matrix:\\n\", conf_matrix)\n",
    "\n",
    "# Mean Absolute Error (MAE)\n",
    "mae = mean_absolute_error(text_prep['Sentiment_Polarity'], text_prep['Polarity'])\n",
    "print(\"MAE:\", mae)\n",
    "\n",
    "# Root Mean Squared Error (RMSE)\n",
    "rmse = mean_squared_error(text_prep['Sentiment_Polarity'], text_prep['Polarity'], squared=False)\n",
    "print(\"RMSE:\", rmse)\n"
   ]
  },
  {
   "cell_type": "code",
   "execution_count": null,
   "metadata": {},
   "outputs": [],
   "source": []
  }
 ],
 "metadata": {
  "kernelspec": {
   "display_name": "Python 3 (ipykernel)",
   "language": "python",
   "name": "python3"
  },
  "language_info": {
   "codemirror_mode": {
    "name": "ipython",
    "version": 3
   },
   "file_extension": ".py",
   "mimetype": "text/x-python",
   "name": "python",
   "nbconvert_exporter": "python",
   "pygments_lexer": "ipython3",
   "version": "3.11.5"
  }
 },
 "nbformat": 4,
 "nbformat_minor": 2
}
