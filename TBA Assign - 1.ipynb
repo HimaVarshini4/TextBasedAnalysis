{
 "cells": [
  {
   "cell_type": "markdown",
   "id": "e64a583b",
   "metadata": {},
   "source": [
    "### Basic String Operation"
   ]
  },
  {
   "cell_type": "code",
   "execution_count": 7,
   "id": "141feb2a",
   "metadata": {},
   "outputs": [
    {
     "name": "stdout",
     "output_type": "stream",
     "text": [
      "Hello\n"
     ]
    }
   ],
   "source": [
    "#Assigning string 'Hello' to variable a\n",
    "a = \"Hello\"\n",
    "\n",
    "#Printing the value of variable a\n",
    "print(a)"
   ]
  },
  {
   "cell_type": "markdown",
   "id": "9e4355e5",
   "metadata": {},
   "source": [
    "### String Indexing"
   ]
  },
  {
   "cell_type": "code",
   "execution_count": 8,
   "id": "4526b013",
   "metadata": {},
   "outputs": [
    {
     "name": "stdout",
     "output_type": "stream",
     "text": [
      "H\n",
      "i\n"
     ]
    }
   ],
   "source": [
    "#Assigning string \"Hima Varshini\" to variable name \n",
    "name = \"Hima Varshini\"\n",
    "\n",
    "#Printing the index of 0 of variable name \n",
    "print(name[0])\n",
    "\n",
    "#Printing the index of -1 of variable name \n",
    "print(name[-1])"
   ]
  },
  {
   "cell_type": "markdown",
   "id": "b898b17e",
   "metadata": {},
   "source": [
    "### String Slicing"
   ]
  },
  {
   "cell_type": "code",
   "execution_count": 9,
   "id": "b0ebbc5e",
   "metadata": {},
   "outputs": [
    {
     "name": "stdout",
     "output_type": "stream",
     "text": [
      "Hima\n",
      "Varshini\n"
     ]
    }
   ],
   "source": [
    "#Assigning string 'Hima Varshini' to variable name\n",
    "name = \"Hima Varshini\"\n",
    "\n",
    "#Printing the substring of the variable name from index 0 to index 4\n",
    "print(name[0:4])\n",
    "\n",
    "#Printing the substring of the variable name from index 5 to the end\n",
    "print(name[5:])"
   ]
  },
  {
   "cell_type": "markdown",
   "id": "74f23c9e",
   "metadata": {},
   "source": [
    "### String Length"
   ]
  },
  {
   "cell_type": "code",
   "execution_count": 10,
   "id": "0df70cd5",
   "metadata": {},
   "outputs": [
    {
     "name": "stdout",
     "output_type": "stream",
     "text": [
      "13\n"
     ]
    }
   ],
   "source": [
    "#Assigning \"Hima Varshini\" to variable name\n",
    "name = \"Hima Varshini\"\n",
    "\n",
    "#Printing the length of the name\n",
    "print(len(name))"
   ]
  },
  {
   "cell_type": "markdown",
   "id": "f512143e",
   "metadata": {},
   "source": [
    "### String replace"
   ]
  },
  {
   "cell_type": "code",
   "execution_count": 11,
   "id": "37a9ac43",
   "metadata": {},
   "outputs": [
    {
     "name": "stdout",
     "output_type": "stream",
     "text": [
      "Hima Darshini\n"
     ]
    }
   ],
   "source": [
    "#Assigning \"Hima Varshini\" to variable name\n",
    "name = \"Hima Varshini\"\n",
    "\n",
    "#Using replace(old, new) to replace new with the old\n",
    "print(name.replace(\"V\", \"D\"))"
   ]
  },
  {
   "cell_type": "markdown",
   "id": "48a0cd86",
   "metadata": {},
   "source": [
    "### String Concatenation"
   ]
  },
  {
   "cell_type": "code",
   "execution_count": 12,
   "id": "47857d63",
   "metadata": {},
   "outputs": [
    {
     "name": "stdout",
     "output_type": "stream",
     "text": [
      "Hima Varshini\n"
     ]
    }
   ],
   "source": [
    "#Assigning string 'Hima' to variable first_name\n",
    "first_name = \"Hima\"\n",
    "\n",
    "#Assigning string 'Varshini' to variable last_name\n",
    "last_name = \"Varshini\"\n",
    "\n",
    "#Concatenating first_name and last_name to variable full_name\n",
    "full_name = first_name + \" \" + last_name\n",
    "\n",
    "#Printing the value of a variable full_name\n",
    "print(full_name)"
   ]
  },
  {
   "cell_type": "markdown",
   "id": "3469f3b9",
   "metadata": {},
   "source": [
    "### String Method - isspace()"
   ]
  },
  {
   "cell_type": "code",
   "execution_count": 13,
   "id": "22a1f353",
   "metadata": {},
   "outputs": [
    {
     "name": "stdout",
     "output_type": "stream",
     "text": [
      "True\n",
      "False\n"
     ]
    }
   ],
   "source": [
    "#Assigning string ' ' to a variable name\n",
    "name = ' '\n",
    "\n",
    "#Using isspace() to check if all the characters in the string contains spaces or not\n",
    "print(name.isspace())\n",
    "\n",
    "#Assigning string 'Hima Varshini' to a variable name\n",
    "name = 'Hima Varshini'\n",
    "\n",
    "#Using isspace() to check if all the characters in the string contains spaces or not\n",
    "print(name.isspace())"
   ]
  },
  {
   "cell_type": "markdown",
   "id": "fd160837",
   "metadata": {},
   "source": [
    "### String Method - isupper()"
   ]
  },
  {
   "cell_type": "code",
   "execution_count": 14,
   "id": "6ce6c7b1",
   "metadata": {},
   "outputs": [
    {
     "name": "stdout",
     "output_type": "stream",
     "text": [
      "True\n",
      "False\n"
     ]
    }
   ],
   "source": [
    "#Assigning string 'HIMA VARSHINI' to a variable name\n",
    "name = 'HIMA VARSHINI'\n",
    "\n",
    "#Using isupper() to check if all the characters in the string are in uppercase or not\n",
    "print(name.isupper())\n",
    "\n",
    "#Assigning string 'Hima Varshini' to a variable name\n",
    "name = 'Hima Varshini'\n",
    "\n",
    "#Using isupper() to check if all the characters in the string are in uppercase or not\n",
    "print(name.isupper())"
   ]
  },
  {
   "cell_type": "markdown",
   "id": "846198a3",
   "metadata": {},
   "source": [
    "### String Method - islower()"
   ]
  },
  {
   "cell_type": "code",
   "execution_count": 15,
   "id": "28eb01af",
   "metadata": {},
   "outputs": [
    {
     "name": "stdout",
     "output_type": "stream",
     "text": [
      "True\n",
      "False\n"
     ]
    }
   ],
   "source": [
    "#Assigning string 'hima varshini' to a variable name\n",
    "name = 'hima varshini'\n",
    "\n",
    "#Using islower() to check if all the characters in the string are in lowercase or not\n",
    "print(name.islower())\n",
    "\n",
    "#Assigning string 'Hima Varshini' to a variable name\n",
    "name = 'Hima Varshini'\n",
    "\n",
    "#Using islower() to check if all the characters in the string are in lowercase or not\n",
    "print(name.islower())"
   ]
  },
  {
   "cell_type": "markdown",
   "id": "6d08a478",
   "metadata": {},
   "source": [
    "### String Method - isalnum()"
   ]
  },
  {
   "cell_type": "code",
   "execution_count": 16,
   "id": "2329cb8c",
   "metadata": {},
   "outputs": [
    {
     "name": "stdout",
     "output_type": "stream",
     "text": [
      "True\n",
      "True\n",
      "False\n"
     ]
    }
   ],
   "source": [
    "#Assigning string 'Hima' to a variable name\n",
    "name = \"Hima\"\n",
    "\n",
    "#Using isalnum() to check all the above characters in the string are alphanumeric or not\n",
    "print(name.isalnum())\n",
    "\n",
    "#Assigning string 'Hima123' to a variable name\n",
    "name = \"Hima123\"\n",
    "\n",
    "#Using isalnum() to check all the above characters in the string are alphanumeric or not\n",
    "print(name.isalnum())\n",
    "\n",
    "#Assigning string 'Hima 123' to a variable name\n",
    "name = \"Hima 123\"\n",
    "\n",
    "#Using isalnum() to check all the above characters in the string are alphanumeric or not\n",
    "print(name.isalnum())"
   ]
  },
  {
   "cell_type": "markdown",
   "id": "0d7a2b31",
   "metadata": {},
   "source": [
    "### String Method - isalpha()"
   ]
  },
  {
   "cell_type": "code",
   "execution_count": 17,
   "id": "d2792e2e",
   "metadata": {},
   "outputs": [
    {
     "name": "stdout",
     "output_type": "stream",
     "text": [
      "True\n",
      "False\n"
     ]
    }
   ],
   "source": [
    "#Assigning string 'Hima' to a variable name\n",
    "name = \"Hima\"\n",
    "\n",
    "#Using isalpha() to check all the characters in the string are alphabetic or not\n",
    "print(name.isalpha())\n",
    "\n",
    "#Assigning string 'Hima123' to a variable name\n",
    "name = \"Hima123\"\n",
    "\n",
    "#Using isalpha() to check all the characters in the string are alphabetic or not\n",
    "print(name.isalpha())\n"
   ]
  },
  {
   "cell_type": "markdown",
   "id": "f9101502",
   "metadata": {},
   "source": [
    "### String Method - isdigit()"
   ]
  },
  {
   "cell_type": "code",
   "execution_count": 18,
   "id": "b5263b5e",
   "metadata": {},
   "outputs": [
    {
     "name": "stdout",
     "output_type": "stream",
     "text": [
      "True\n",
      "False\n"
     ]
    }
   ],
   "source": [
    "#Assigning string '123' to a variable name\n",
    "name = \"123\"\n",
    "\n",
    "#Using isdigit() to check all the characters in the string are digits\n",
    "print(name.isdigit())\n",
    "\n",
    "#Assigning string 'Hima' to a variable name\n",
    "name = \"Hima\"\n",
    "\n",
    "#Using isdigit() to check all the characters in the string are digits\n",
    "print(name.isdigit())\n"
   ]
  },
  {
   "cell_type": "markdown",
   "id": "ddea3249",
   "metadata": {},
   "source": [
    "### String Method - startswith(char)"
   ]
  },
  {
   "cell_type": "code",
   "execution_count": 19,
   "id": "ead338ff",
   "metadata": {},
   "outputs": [
    {
     "name": "stdout",
     "output_type": "stream",
     "text": [
      "True\n",
      "False\n"
     ]
    }
   ],
   "source": [
    "#Assigning string 'Hima' to a variable name\n",
    "name = \"Hima\"\n",
    "\n",
    "#Using startswith(char) to check the string starts with char\n",
    "print(name.startswith('Hi'))\n",
    "\n",
    "#Assigning string 'Hima' to a variable name\n",
    "name = \"Hima\"\n",
    "\n",
    "#Using startswith(char) to check the string starts with char\n",
    "print(name.startswith('ma'))"
   ]
  },
  {
   "cell_type": "markdown",
   "id": "479bfa10",
   "metadata": {},
   "source": [
    "### String Method - endswith(char)"
   ]
  },
  {
   "cell_type": "code",
   "execution_count": 20,
   "id": "8cf86c67",
   "metadata": {},
   "outputs": [
    {
     "name": "stdout",
     "output_type": "stream",
     "text": [
      "True\n",
      "False\n"
     ]
    }
   ],
   "source": [
    "#Assigning string 'Hima' to a variable name\n",
    "name = \"Hima\"\n",
    "\n",
    "#Using endswith(char) to check the above string ends with char\n",
    "print(name.endswith('ma'))\n",
    "\n",
    "#Assigning string 'Hima' to a variable name\n",
    "name = \"Hima\"\n",
    "\n",
    "#Using endswith(char) to check the above string ends with char\n",
    "print(name.endswith('Hi'))"
   ]
  },
  {
   "cell_type": "markdown",
   "id": "62b6e27d",
   "metadata": {},
   "source": [
    "### String Method - find(substring)"
   ]
  },
  {
   "cell_type": "code",
   "execution_count": 21,
   "id": "e0b9d5bc",
   "metadata": {},
   "outputs": [
    {
     "name": "stdout",
     "output_type": "stream",
     "text": [
      "5\n",
      "1\n"
     ]
    }
   ],
   "source": [
    "#Assigning string 'Hima Varshini' to a variable name\n",
    "name = 'Hima Varshini'\n",
    "\n",
    "#Using find(char) to return the lowest index of the character\n",
    "print(name.find('Var'))\n",
    "\n",
    "#Using find(char) to return the lowest index of the character\n",
    "print(name.find('i'))"
   ]
  },
  {
   "cell_type": "markdown",
   "id": "44255744",
   "metadata": {},
   "source": [
    "### Splitting"
   ]
  },
  {
   "cell_type": "code",
   "execution_count": 22,
   "id": "7bea2ca6",
   "metadata": {},
   "outputs": [
    {
     "name": "stdout",
     "output_type": "stream",
     "text": [
      "['A', ' B', ' C', ' D']\n",
      "['Apple', ' Banana', ' Carrot', ' Guava']\n"
     ]
    }
   ],
   "source": [
    "#Assigning string 'A, B, C, D' to a variable name\n",
    "name = 'A, B, C, D'\n",
    "\n",
    "#Returns a list containing the words in the string\n",
    "print(name.split(','))\n",
    "\n",
    "#Assigning string 'Apple, Banana, Carrot, Guava' to a variable name\n",
    "name = 'Apple, Banana, Carrot, Guava'\n",
    "\n",
    "#Returns a list containing the words in the string\n",
    "print(name.split(\",\"))"
   ]
  },
  {
   "cell_type": "markdown",
   "id": "4602b694",
   "metadata": {},
   "source": [
    "### String Method - lower()"
   ]
  },
  {
   "cell_type": "code",
   "execution_count": 23,
   "id": "5a13f0e0",
   "metadata": {},
   "outputs": [
    {
     "name": "stdout",
     "output_type": "stream",
     "text": [
      "hima varshini\n"
     ]
    }
   ],
   "source": [
    "#Assigning string 'Hima Varshini' to a variable name\n",
    "name = \"Hima Varshini\"\n",
    "\n",
    "#Converts the string into lowercase\n",
    "print(name.lower())"
   ]
  },
  {
   "cell_type": "markdown",
   "id": "b3193444",
   "metadata": {},
   "source": [
    "### String Method - upper()"
   ]
  },
  {
   "cell_type": "code",
   "execution_count": 24,
   "id": "fafe502c",
   "metadata": {},
   "outputs": [
    {
     "name": "stdout",
     "output_type": "stream",
     "text": [
      "HIMA VARSHINI\n"
     ]
    }
   ],
   "source": [
    "#Assigning string 'Hima Varshini' to a variable name\n",
    "name = \"Hima Varshini\"\n",
    "\n",
    "#Converts the string into uppercase\n",
    "print(name.upper())"
   ]
  },
  {
   "cell_type": "markdown",
   "id": "153d9045",
   "metadata": {},
   "source": [
    "### String Method - strip()"
   ]
  },
  {
   "cell_type": "code",
   "execution_count": 25,
   "id": "25ad2375",
   "metadata": {},
   "outputs": [
    {
     "name": "stdout",
     "output_type": "stream",
     "text": [
      "    Hima Varshini    \n",
      "Hima Varshini\n"
     ]
    }
   ],
   "source": [
    "#Assigning string '    Hima Varshini    ' to a variable name\n",
    "name = \"    Hima Varshini    \"\n",
    "\n",
    "#Printing the name of the string\n",
    "print(name)\n",
    "\n",
    "#Printing the strip() with all the white characters removed\n",
    "print(name.strip())"
   ]
  },
  {
   "cell_type": "markdown",
   "id": "1ae20c31",
   "metadata": {},
   "source": [
    "### String Method - strip(char)"
   ]
  },
  {
   "cell_type": "code",
   "execution_count": 26,
   "id": "1bc16f25",
   "metadata": {},
   "outputs": [
    {
     "name": "stdout",
     "output_type": "stream",
     "text": [
      "    Hima Varshini    \n",
      "ma Varshin\n"
     ]
    }
   ],
   "source": [
    "#Assigning string '    Hima Varshini    ' to a variable name\n",
    "name = \"    Hima Varshini    \"\n",
    "\n",
    "#Printing the name of the string\n",
    "print(name)\n",
    "\n",
    "#Printing the strip() with all the white characters removed\n",
    "print(name.strip(' Hi'))"
   ]
  },
  {
   "cell_type": "markdown",
   "id": "2cc7a9b1",
   "metadata": {},
   "source": [
    "### String Method - lstrip()"
   ]
  },
  {
   "cell_type": "code",
   "execution_count": 27,
   "id": "1554e6f2",
   "metadata": {},
   "outputs": [
    {
     "name": "stdout",
     "output_type": "stream",
     "text": [
      "    Hima Varshini    \n",
      "Hima Varshini    \n"
     ]
    }
   ],
   "source": [
    "#Assigning string '    Hima Varshini    ' to a variable name\n",
    "name = \"    Hima Varshini    \"\n",
    "\n",
    "#Printing the name of the string\n",
    "print(name)\n",
    "\n",
    "#Returns a copy of the string with all leading whitespace characters removed\n",
    "print(name.lstrip())"
   ]
  },
  {
   "cell_type": "markdown",
   "id": "db14c460",
   "metadata": {},
   "source": [
    "### String Method - lstrip(char)"
   ]
  },
  {
   "cell_type": "code",
   "execution_count": 28,
   "id": "676c00b4",
   "metadata": {},
   "outputs": [
    {
     "name": "stdout",
     "output_type": "stream",
     "text": [
      "    Hima Varshini    \n",
      "ma Varshini    \n",
      "Hima Varshini    \n"
     ]
    }
   ],
   "source": [
    "#Assigning string '    Hima Varshini    ' to a variable name\n",
    "name = \"    Hima Varshini    \"\n",
    "\n",
    "#Printing the name of the string\n",
    "print(name)\n",
    "\n",
    "#Using lstrip('Hi') to remove leading spaces and characters\n",
    "print(name.lstrip(' Hi'))\n",
    "\n",
    "#Using lstrip('ni') to remove leading spaces and characters\n",
    "print(name.lstrip(' ni'))"
   ]
  },
  {
   "cell_type": "markdown",
   "id": "ece9d001",
   "metadata": {},
   "source": [
    "### String Method - rstrip()"
   ]
  },
  {
   "cell_type": "code",
   "execution_count": 29,
   "id": "3cd547b2",
   "metadata": {},
   "outputs": [
    {
     "name": "stdout",
     "output_type": "stream",
     "text": [
      "    Hima Varshini    \n",
      "    Hima Varshini\n"
     ]
    }
   ],
   "source": [
    "#Assigning string '    Hima Varshini    ' to a variable name\n",
    "name = \"    Hima Varshini    \"\n",
    "\n",
    "#Printing the name of the string\n",
    "print(name)\n",
    "\n",
    "#Returns a copy of the string with all trailing whitespace characters removed\n",
    "print(name.rstrip())"
   ]
  },
  {
   "cell_type": "markdown",
   "id": "fd66a555",
   "metadata": {},
   "source": [
    "### String Method - rstrip(char)"
   ]
  },
  {
   "cell_type": "code",
   "execution_count": 30,
   "id": "25a528b7",
   "metadata": {},
   "outputs": [
    {
     "name": "stdout",
     "output_type": "stream",
     "text": [
      "    Hima Varshini    \n",
      "    Hima Varshin\n",
      "    Hima Varsh\n"
     ]
    }
   ],
   "source": [
    "#Assigning string '    Hima Varshini    ' to a variable name\n",
    "name = \"    Hima Varshini    \"\n",
    "\n",
    "#Printing the name of the string\n",
    "print(name)\n",
    "\n",
    "#Using rstrip('Hi') to remove trailing spaces and characters\n",
    "print(name.rstrip(' Hi'))\n",
    "\n",
    "#Using rstrip('ni') to remove trailing spaces and characters\n",
    "print(name.rstrip(' ni'))"
   ]
  },
  {
   "cell_type": "markdown",
   "id": "bebe91a3",
   "metadata": {},
   "source": [
    "### Regex-1: Matches any character except \\n"
   ]
  },
  {
   "cell_type": "code",
   "execution_count": 31,
   "id": "409aa3e1",
   "metadata": {},
   "outputs": [
    {
     "name": "stdout",
     "output_type": "stream",
     "text": [
      "['mat', 'cat', ' at', 'pat', 'lat']\n"
     ]
    }
   ],
   "source": [
    "import regex as re\n",
    "def tokenize(text):\n",
    "    return re.findall(r'.at', text)\n",
    "\n",
    "x = tokenize(\"matcat at pat lat ant\")\n",
    "print(x)"
   ]
  },
  {
   "cell_type": "markdown",
   "id": "cf47b325",
   "metadata": {},
   "source": [
    "### Regex-2: Matches the beginning of the line - ^"
   ]
  },
  {
   "cell_type": "code",
   "execution_count": 32,
   "id": "82b321c4",
   "metadata": {},
   "outputs": [
    {
     "name": "stdout",
     "output_type": "stream",
     "text": [
      "['mat']\n",
      "[]\n"
     ]
    }
   ],
   "source": [
    "import regex as re\n",
    "def tokenize(text):\n",
    "    return re.findall(r'^mat', text)\n",
    "                      \n",
    "x = tokenize(\"mat\")\n",
    "print(x)\n",
    "\n",
    "y = tokenize(\"Mat\")\n",
    "print(y)"
   ]
  },
  {
   "cell_type": "markdown",
   "id": "9679cd67",
   "metadata": {},
   "source": [
    "### Regex-3: Matches the ending of the line - $"
   ]
  },
  {
   "cell_type": "code",
   "execution_count": 33,
   "id": "5e57a253",
   "metadata": {},
   "outputs": [
    {
     "name": "stdout",
     "output_type": "stream",
     "text": [
      "['mat']\n",
      "[]\n"
     ]
    }
   ],
   "source": [
    "import regex as re\n",
    "def tokenize(text):\n",
    "    return re.findall(r'mat$', text)\n",
    "\n",
    "x = tokenize(\"There is a mat\")\n",
    "print(x)\n",
    "\n",
    "y = tokenize(\"There is a maT\")\n",
    "print(y)"
   ]
  },
  {
   "cell_type": "markdown",
   "id": "b5d2795a",
   "metadata": {},
   "source": [
    "### Regex-4: OR"
   ]
  },
  {
   "cell_type": "code",
   "execution_count": 34,
   "id": "f6cf5855",
   "metadata": {},
   "outputs": [
    {
     "name": "stdout",
     "output_type": "stream",
     "text": [
      "['abc', 'xyz', 'abc', 'xyz']\n"
     ]
    }
   ],
   "source": [
    "import regex as re\n",
    "def tokenize(text):\n",
    "    return re.findall(r'abc|xyz', text)\n",
    "\n",
    "x = tokenize(\"abcxyz abc xyz abd xzy adbxzy\")\n",
    "print(x)"
   ]
  },
  {
   "cell_type": "markdown",
   "id": "b4adccf0",
   "metadata": {},
   "source": [
    "### Regex-5: *"
   ]
  },
  {
   "cell_type": "code",
   "execution_count": 35,
   "id": "5a889443",
   "metadata": {},
   "outputs": [
    {
     "name": "stdout",
     "output_type": "stream",
     "text": [
      "['attt', 'at', 'att', 'attt', 'atttttt', 'a', 'a', 'at']\n"
     ]
    }
   ],
   "source": [
    "import regex as re\n",
    "def tokenize(text):\n",
    "    return re.findall(r'at*', text)\n",
    "\n",
    "x = tokenize(\"matttcat patt rattt latttttt aaat\")\n",
    "print(x)"
   ]
  },
  {
   "cell_type": "code",
   "execution_count": null,
   "id": "00c15f9e",
   "metadata": {},
   "outputs": [],
   "source": []
  }
 ],
 "metadata": {
  "kernelspec": {
   "display_name": "Python 3 (ipykernel)",
   "language": "python",
   "name": "python3"
  },
  "language_info": {
   "codemirror_mode": {
    "name": "ipython",
    "version": 3
   },
   "file_extension": ".py",
   "mimetype": "text/x-python",
   "name": "python",
   "nbconvert_exporter": "python",
   "pygments_lexer": "ipython3",
   "version": "3.11.5"
  }
 },
 "nbformat": 4,
 "nbformat_minor": 5
}
